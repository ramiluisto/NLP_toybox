{
 "cells": [
  {
   "cell_type": "code",
   "execution_count": 1,
   "metadata": {},
   "outputs": [],
   "source": [
    "from transformers import BertTokenizer\n",
    "\n",
    "\n",
    "bert_tokenizer = BertTokenizer.from_pretrained('bert-base-cased')\n",
    "finbert_tokenizer = BertTokenizer.from_pretrained(\"TurkuNLP/bert-base-finnish-cased-v1\")\n",
    "\n"
   ]
  },
  {
   "cell_type": "code",
   "execution_count": 5,
   "metadata": {},
   "outputs": [],
   "source": [
    "bert_tokens = list(bert_tokenizer.get_vocab().keys())\n",
    "finbert_tokens = list(finbert_tokenizer.get_vocab().keys())"
   ]
  },
  {
   "cell_type": "code",
   "execution_count": 12,
   "metadata": {},
   "outputs": [
    {
     "name": "stdout",
     "output_type": "stream",
     "text": [
      "BERT subword ratio: 22%\n",
      "FinBERT subword ratio: 26%\n"
     ]
    }
   ],
   "source": [
    "def get_tokenizer_subword_ratio(tokenizer):\n",
    "    subword_tokens = 0\n",
    "    for token in tokenizer.get_vocab().keys():\n",
    "        if token.startswith(\"##\"):\n",
    "            subword_tokens += 1\n",
    "    return subword_tokens / len(tokenizer.get_vocab())\n",
    "\n",
    "print(f\"BERT subword ratio: {get_tokenizer_subword_ratio(bert_tokenizer):.0%}\")\n",
    "print(f\"FinBERT subword ratio: {get_tokenizer_subword_ratio(finbert_tokenizer):.0%}\")"
   ]
  }
 ],
 "metadata": {
  "kernelspec": {
   "display_name": "NLPvis311",
   "language": "python",
   "name": "python3"
  },
  "language_info": {
   "codemirror_mode": {
    "name": "ipython",
    "version": 3
   },
   "file_extension": ".py",
   "mimetype": "text/x-python",
   "name": "python",
   "nbconvert_exporter": "python",
   "pygments_lexer": "ipython3",
   "version": "3.11.7"
  }
 },
 "nbformat": 4,
 "nbformat_minor": 2
}
