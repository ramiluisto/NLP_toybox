{
 "cells": [
  {
   "cell_type": "code",
   "execution_count": 1,
   "metadata": {},
   "outputs": [],
   "source": [
    "from transformers import BertTokenizer\n",
    "\n",
    "\n",
    "bert_tokenizer = BertTokenizer.from_pretrained('bert-base-cased')\n",
    "finbert_tokenizer = BertTokenizer.from_pretrained(\"TurkuNLP/bert-base-finnish-cased-v1\")\n",
    "\n"
   ]
  },
  {
   "cell_type": "code",
   "execution_count": 5,
   "metadata": {},
   "outputs": [],
   "source": [
    "bert_tokens = list(bert_tokenizer.get_vocab().keys())\n",
    "finbert_tokens = list(finbert_tokenizer.get_vocab().keys())"
   ]
  },
  {
   "cell_type": "code",
   "execution_count": 12,
   "metadata": {},
   "outputs": [
    {
     "name": "stdout",
     "output_type": "stream",
     "text": [
      "BERT subword ratio: 22%\n",
      "FinBERT subword ratio: 26%\n"
     ]
    }
   ],
   "source": [
    "def get_tokenizer_subword_ratio(tokenizer):\n",
    "    subword_tokens = 0\n",
    "    for token in tokenizer.get_vocab().keys():\n",
    "        if token.startswith(\"##\"):\n",
    "            subword_tokens += 1\n",
    "    return subword_tokens / len(tokenizer.get_vocab())\n",
    "\n",
    "def get_tokenizer_alphanumeric_ratio(tokenizer):\n",
    "    alphanumeric_tokens = 0\n",
    "    for token in tokenizer.get_vocab().keys():\n",
    "        if token.isalnum():\n",
    "            alphanumeric_tokens += 1\n",
    "    return alphanumeric_tokens / len(tokenizer.get_vocab())\n",
    "\n",
    "def get_tokenizer_purely_numeric_ratio(tokenizer):\n",
    "    purely_numeric_tokens = 0\n",
    "    for token in tokenizer.get_vocab().keys():\n",
    "        if token.isnumeric():\n",
    "            purely_numeric_tokens += 1\n",
    "    return purely_numeric_tokens / len(tokenizer.get_vocab())\n",
    "\n",
    "def get_tokenizer_purely_alphabetic_ratio(tokenizer):\n",
    "    purely_alphabetic_tokens = 0\n",
    "    for token in tokenizer.get_vocab().keys():\n",
    "        if token.isalpha():\n",
    "            purely_alphabetic_tokens += 1\n",
    "    return purely_alphabetic_tokens / len(tokenizer.get_vocab())\n",
    "\n",
    "def get_tokenizer_special_character_ratio(tokenizer):\n",
    "    special_character_tokens = 0\n",
    "    for token in tokenizer.get_vocab().keys():\n",
    "        if not token.isalnum():\n",
    "            special_character_tokens += 1\n",
    "    return special_character_tokens / len(tokenizer.get_vocab())\n",
    "\n",
    "def get_tokenizer_summary(tokenizer):\n",
    "    return {\n",
    "        \"subword_ratio\": get_tokenizer_subword_ratio(tokenizer),\n",
    "        \"alphanumeric_ratio\": get_tokenizer_alphanumeric_ratio(tokenizer),\n",
    "        \"purely_numeric_ratio\": get_tokenizer_purely_numeric_ratio(tokenizer),\n",
    "        \"purely_alphabetic_ratio\": get_tokenizer_purely_alphabetic_ratio(tokenizer),\n",
    "        \"special_character_ratio\": get_tokenizer_special_character_ratio(tokenizer)\n",
    "    }"
   ]
  }
 ],
 "metadata": {
  "kernelspec": {
   "display_name": "NLPvis311",
   "language": "python",
   "name": "python3"
  },
  "language_info": {
   "codemirror_mode": {
    "name": "ipython",
    "version": 3
   },
   "file_extension": ".py",
   "mimetype": "text/x-python",
   "name": "python",
   "nbconvert_exporter": "python",
   "pygments_lexer": "ipython3",
   "version": "3.11.7"
  }
 },
 "nbformat": 4,
 "nbformat_minor": 2
}
